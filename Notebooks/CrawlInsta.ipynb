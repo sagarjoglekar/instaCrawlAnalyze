{
 "cells": [
  {
   "cell_type": "code",
   "execution_count": 1,
   "metadata": {
    "collapsed": true
   },
   "outputs": [],
   "source": [
    "import json\n",
    "import os\n",
    "import sys\n",
    "from subprocess import call\n",
    "import requests\n",
    "import os.path\n",
    "import wget"
   ]
  },
  {
   "cell_type": "code",
   "execution_count": 14,
   "metadata": {
    "collapsed": true
   },
   "outputs": [],
   "source": [
    "users = 'kingbach'"
   ]
  },
  {
   "cell_type": "code",
   "execution_count": 15,
   "metadata": {
    "collapsed": true
   },
   "outputs": [],
   "source": [
    "r = requests.get('https://www.instagram.com/'+users ) #auth=('user', 'pass')"
   ]
  },
  {
   "cell_type": "code",
   "execution_count": 16,
   "metadata": {
    "collapsed": false
   },
   "outputs": [
    {
     "data": {
      "text/plain": [
       "200"
      ]
     },
     "execution_count": 16,
     "metadata": {},
     "output_type": "execute_result"
    }
   ],
   "source": [
    "r.status_code"
   ]
  },
  {
   "cell_type": "code",
   "execution_count": 17,
   "metadata": {
    "collapsed": false
   },
   "outputs": [
    {
     "data": {
      "text/plain": [
       "(15082, <function find>)"
      ]
     },
     "execution_count": 17,
     "metadata": {},
     "output_type": "execute_result"
    }
   ],
   "source": [
    "r.text.find(\"<script type=\\\"text/javascript\\\">window._sharedData\"),  r.text.find  "
   ]
  },
  {
   "cell_type": "code",
   "execution_count": 27,
   "metadata": {
    "collapsed": false
   },
   "outputs": [],
   "source": [
    "from bs4 import BeautifulSoup\n",
    "true = True\n",
    "false = False\n",
    "null = None\n",
    "soup = BeautifulSoup(r.text)\n",
    "js_text = [sc.text for sc in soup('script') if 'window._sharedData' in sc.text]\n",
    "if js_text:\n",
    "\tjs_text = js_text[0].split(' = ')[1]\n",
    "\tjs_text = eval(js_text[:-1])"
   ]
  },
  {
   "cell_type": "code",
   "execution_count": 39,
   "metadata": {
    "collapsed": false
   },
   "outputs": [
    {
     "data": {
      "text/plain": [
       "[{'user': {'biography': '\\\\ud83c\\\\udfa5UTA \\\\ud83c\\\\udfa5 TURN ON MY POST NOTIFICATIONS',\n",
       "   'blocked_by_viewer': False,\n",
       "   'connected_fb_page': None,\n",
       "   'country_block': None,\n",
       "   'external_url': 'https://youtu.be/8cs8fGlBe14',\n",
       "   'external_url_linkshimmed': 'https://l.instagram.com/?e=ATN_GFDi6yXy8_2AdpD-uNb4G3luRoUr7voSLh5PfTOJuQeC7nGLJwpj\\\\u0026u=https%3A%2F%2Fyoutu.be%2F8cs8fGlBe14',\n",
       "   'followed_by': {'count': 11124118},\n",
       "   'followed_by_viewer': False,\n",
       "   'follows': {'count': 210},\n",
       "   'follows_viewer': False,\n",
       "   'full_name': 'KingBach',\n",
       "   'has_blocked_viewer': False,\n",
       "   'has_requested_viewer': False,\n",
       "   'id': '18597144',\n",
       "   'is_private': False,\n",
       "   'is_verified': True,\n",
       "   'media': {'count': 2962,\n",
       "    'nodes': [{'caption': 'Toronto waddup! \\\\ud83c\\\\udde8\\\\ud83c\\\\udde6\\\\ud83d\\\\udd25\\\\ud83d\\\\ude02 #MannequinFail',\n",
       "      'code': 'BNbQuO7BTAA',\n",
       "      'comments': {'count': 460},\n",
       "      'comments_disabled': False,\n",
       "      'date': 1480490999,\n",
       "      'dimensions': {'height': 799, 'width': 640},\n",
       "      'display_src': 'https://scontent.cdninstagram.com/t51.2885-15/e15/p640x640/14726334_1082395615202573_4034113045687959552_n.jpg?ig_cache_key=MTM5NDc4MjA1NTQ2Mzk4OTI0OA%3D%3D.2',\n",
       "      'id': '1394782055463989248',\n",
       "      'is_video': True,\n",
       "      'likes': {'count': 96139},\n",
       "      'owner': {'id': '18597144'},\n",
       "      'thumbnail_src': 'https://scontent.cdninstagram.com/t51.2885-15/s640x640/e15/c0.89.720.720/14726334_1082395615202573_4034113045687959552_n.jpg?ig_cache_key=MTM5NDc4MjA1NTQ2Mzk4OTI0OA%3D%3D.2.c',\n",
       "      'video_views': 802413},\n",
       "     {'caption': 'Mood w/ @loulou_gonzalez',\n",
       "      'code': 'BNatuVcgUaY',\n",
       "      'comments': {'count': 466},\n",
       "      'comments_disabled': False,\n",
       "      'date': 1480472650,\n",
       "      'dimensions': {'height': 640, 'width': 640},\n",
       "      'display_src': 'https://scontent.cdninstagram.com/t51.2885-15/s640x640/e15/15251791_106750543148068_3662269006426931200_n.jpg?ig_cache_key=MTM5NDYyODEzMDg0MDMzMTkyOA%3D%3D.2',\n",
       "      'id': '1394628130840331928',\n",
       "      'is_video': True,\n",
       "      'likes': {'count': 128414},\n",
       "      'owner': {'id': '18597144'},\n",
       "      'thumbnail_src': 'https://scontent.cdninstagram.com/t51.2885-15/s640x640/e15/15251791_106750543148068_3662269006426931200_n.jpg?ig_cache_key=MTM5NDYyODEzMDg0MDMzMTkyOA%3D%3D.2',\n",
       "      'video_views': 804862},\n",
       "     {'caption': 'When you meet a girl with body odor. \\\\ud83d\\\\ude02\\\\ud83d\\\\ude02 (Tag someone who stinks) w/ @arantzaofficial @maxgoodrich',\n",
       "      'code': 'BNZvjxegH16',\n",
       "      'comments': {'count': 2990},\n",
       "      'comments_disabled': False,\n",
       "      'date': 1480440058,\n",
       "      'dimensions': {'height': 612, 'width': 612},\n",
       "      'display_src': 'https://scontent.cdninstagram.com/t51.2885-15/e15/15057222_972609112845867_6200175188907130880_n.jpg?ig_cache_key=MTM5NDM1NDcyNjE0MDY3MzQwMg%3D%3D.2',\n",
       "      'id': '1394354726140673402',\n",
       "      'is_video': True,\n",
       "      'likes': {'count': 191051},\n",
       "      'owner': {'id': '18597144'},\n",
       "      'thumbnail_src': 'https://scontent.cdninstagram.com/t51.2885-15/e15/15057222_972609112845867_6200175188907130880_n.jpg?ig_cache_key=MTM5NDM1NDcyNjE0MDY3MzQwMg%3D%3D.2',\n",
       "      'video_views': 1110193},\n",
       "     {'caption': '\\\\ud83d\\\\ude02\\\\ud83d\\\\ude02',\n",
       "      'code': 'BNVb061gAB2',\n",
       "      'comments': {'count': 4906},\n",
       "      'comments_disabled': False,\n",
       "      'date': 1480295494,\n",
       "      'dimensions': {'height': 612, 'width': 612},\n",
       "      'display_src': 'https://scontent.cdninstagram.com/t51.2885-15/e15/15101648_336406856731258_4197446739239632896_n.jpg?ig_cache_key=MTM5MzE0MjA0MzU4NDIzMzU5MA%3D%3D.2',\n",
       "      'id': '1393142043584233590',\n",
       "      'is_video': True,\n",
       "      'likes': {'count': 222776},\n",
       "      'owner': {'id': '18597144'},\n",
       "      'thumbnail_src': 'https://scontent.cdninstagram.com/t51.2885-15/e15/15101648_336406856731258_4197446739239632896_n.jpg?ig_cache_key=MTM5MzE0MjA0MzU4NDIzMzU5MA%3D%3D.2',\n",
       "      'video_views': 1242241},\n",
       "     {'caption': \"It's almost game day dance! \\\\u26bd\\\\ufe0f w/ @obj @raesremmurd\",\n",
       "      'code': 'BNR7TsegLxY',\n",
       "      'comments': {'count': 3384},\n",
       "      'comments_disabled': False,\n",
       "      'date': 1480177782,\n",
       "      'dimensions': {'height': 640, 'width': 640},\n",
       "      'display_src': 'https://scontent.cdninstagram.com/t51.2885-15/s640x640/e15/15251671_1183705161720665_1068052285117956096_n.jpg?ig_cache_key=MTM5MjE1NDU5ODAwNDgwMDYwMA%3D%3D.2',\n",
       "      'id': '1392154598004800600',\n",
       "      'is_video': True,\n",
       "      'likes': {'count': 271185},\n",
       "      'owner': {'id': '18597144'},\n",
       "      'thumbnail_src': 'https://scontent.cdninstagram.com/t51.2885-15/s640x640/e15/15251671_1183705161720665_1068052285117956096_n.jpg?ig_cache_key=MTM5MjE1NDU5ODAwNDgwMDYwMA%3D%3D.2',\n",
       "      'video_views': 1764134},\n",
       "     {'caption': 'Yesterday smh lol',\n",
       "      'code': 'BNOP4OuAZs9',\n",
       "      'comments': {'count': 1135},\n",
       "      'comments_disabled': False,\n",
       "      'date': 1480054349,\n",
       "      'dimensions': {'height': 750, 'width': 750},\n",
       "      'display_src': 'https://scontent.cdninstagram.com/t51.2885-15/e35/14596708_219395801805167_4720283867074789376_n.jpg?ig_cache_key=MTM5MTExOTE2OTY5NjY2ODQ3Nw%3D%3D.2',\n",
       "      'id': '1391119169696668477',\n",
       "      'is_video': False,\n",
       "      'likes': {'count': 233574},\n",
       "      'owner': {'id': '18597144'},\n",
       "      'thumbnail_src': 'https://scontent.cdninstagram.com/t51.2885-15/s640x640/sh0.08/e35/14596708_219395801805167_4720283867074789376_n.jpg?ig_cache_key=MTM5MTExOTE2OTY5NjY2ODQ3Nw%3D%3D.2'},\n",
       "     {'caption': \"When your friend doesn't really care about holidays. \\\\ud83e\\\\udd83\\\\ud83d\\\\ude02 w/ @obj (Tag a friend)\",\n",
       "      'code': 'BNNq2dlAxrn',\n",
       "      'comments': {'count': 2318},\n",
       "      'comments_disabled': False,\n",
       "      'date': 1480034936,\n",
       "      'dimensions': {'height': 640, 'width': 640},\n",
       "      'display_src': 'https://scontent.cdninstagram.com/t51.2885-15/s640x640/e15/15101793_1749124902015962_7561750654339776512_n.jpg?ig_cache_key=MTM5MDk1NjMyMDQ5MjAzNDc5MQ%3D%3D.2',\n",
       "      'id': '1390956320492034791',\n",
       "      'is_video': True,\n",
       "      'likes': {'count': 283367},\n",
       "      'owner': {'id': '18597144'},\n",
       "      'thumbnail_src': 'https://scontent.cdninstagram.com/t51.2885-15/s640x640/e15/15101793_1749124902015962_7561750654339776512_n.jpg?ig_cache_key=MTM5MDk1NjMyMDQ5MjAzNDc5MQ%3D%3D.2',\n",
       "      'video_views': 1626893},\n",
       "     {'caption': 'Welcome to New York! \\\\ud83d\\\\ude02\\\\ud83d\\\\ude02 @klarity',\n",
       "      'code': 'BNLfY6AAJCs',\n",
       "      'comments': {'count': 752},\n",
       "      'comments_disabled': False,\n",
       "      'date': 1479961818,\n",
       "      'dimensions': {'height': 640, 'width': 640},\n",
       "      'display_src': 'https://scontent.cdninstagram.com/t51.2885-15/s640x640/e15/14582297_1819051071642939_3863411490358820864_n.jpg?ig_cache_key=MTM5MDM0Mjk2MDk2MDI3ODcwMA%3D%3D.2',\n",
       "      'id': '1390342960960278700',\n",
       "      'is_video': True,\n",
       "      'likes': {'count': 134181},\n",
       "      'owner': {'id': '18597144'},\n",
       "      'thumbnail_src': 'https://scontent.cdninstagram.com/t51.2885-15/s640x640/e15/14582297_1819051071642939_3863411490358820864_n.jpg?ig_cache_key=MTM5MDM0Mjk2MDk2MDI3ODcwMA%3D%3D.2',\n",
       "      'video_views': 731213},\n",
       "     {'caption': '@rujohnnation LINK IN BIO!!!',\n",
       "      'code': 'BNJFfM3gIJS',\n",
       "      'comments': {'count': 454},\n",
       "      'comments_disabled': False,\n",
       "      'date': 1479881129,\n",
       "      'dimensions': {'height': 607, 'width': 1080},\n",
       "      'display_src': 'https://scontent.cdninstagram.com/t51.2885-15/s1080x1080/e15/fr/15101541_961762100623062_748939285926772736_n.jpg?ig_cache_key=MTM4OTY2NjA5NDM3MjkxMzc0Ng%3D%3D.2',\n",
       "      'id': '1389666094372913746',\n",
       "      'is_video': True,\n",
       "      'likes': {'count': 114163},\n",
       "      'owner': {'id': '18597144'},\n",
       "      'thumbnail_src': 'https://scontent.cdninstagram.com/t51.2885-15/e15/c236.0.607.607/15101541_961762100623062_748939285926772736_n.jpg?ig_cache_key=MTM4OTY2NjA5NDM3MjkxMzc0Ng%3D%3D.2.c',\n",
       "      'video_views': 724855},\n",
       "     {'caption': '\\\\ud83d\\\\ude02\\\\ud83d\\\\ude02\\\\ud83d\\\\ude02\\\\ud83d\\\\ude02\\\\ud83d\\\\ude02',\n",
       "      'code': 'BNIzTjLgfIN',\n",
       "      'comments': {'count': 6340},\n",
       "      'comments_disabled': False,\n",
       "      'date': 1479871596,\n",
       "      'dimensions': {'height': 750, 'width': 750},\n",
       "      'display_src': 'https://scontent.cdninstagram.com/t51.2885-15/e35/15034891_371620203178840_7390845848273289216_n.jpg?ig_cache_key=MTM4OTU4NjEyODg1OTk1MTYyOQ%3D%3D.2',\n",
       "      'id': '1389586128859951629',\n",
       "      'is_video': False,\n",
       "      'likes': {'count': 293120},\n",
       "      'owner': {'id': '18597144'},\n",
       "      'thumbnail_src': 'https://scontent.cdninstagram.com/t51.2885-15/s640x640/sh0.08/e35/15034891_371620203178840_7390845848273289216_n.jpg?ig_cache_key=MTM4OTU4NjEyODg1OTk1MTYyOQ%3D%3D.2'},\n",
       "     {'caption': '@rujohnnation',\n",
       "      'code': 'BNGwQpXgGkr',\n",
       "      'comments': {'count': 449},\n",
       "      'comments_disabled': False,\n",
       "      'date': 1479802891,\n",
       "      'dimensions': {'height': 1080, 'width': 1080},\n",
       "      'display_src': 'https://scontent.cdninstagram.com/t51.2885-15/e35/15101573_1819839421623921_3635850915992305664_n.jpg?ig_cache_key=MTM4OTAwOTc4NTI1MjI0Mzc1NQ%3D%3D.2',\n",
       "      'id': '1389009785252243755',\n",
       "      'is_video': False,\n",
       "      'likes': {'count': 163292},\n",
       "      'owner': {'id': '18597144'},\n",
       "      'thumbnail_src': 'https://scontent.cdninstagram.com/t51.2885-15/s640x640/sh0.08/e35/15101573_1819839421623921_3635850915992305664_n.jpg?ig_cache_key=MTM4OTAwOTc4NTI1MjI0Mzc1NQ%3D%3D.2'},\n",
       "     {'caption': \"Booty so nice I couldn't forget it. \\\\ud83d\\\\ude0e\\\\ud83d\\\\ude02 (Tag a booty lover) w/ @sommerray @curtislepore\",\n",
       "      'code': 'BNAodZOgU5-',\n",
       "      'comments': {'count': 7574},\n",
       "      'comments_disabled': False,\n",
       "      'date': 1479597474,\n",
       "      'dimensions': {'height': 640, 'width': 640},\n",
       "      'display_src': 'https://scontent.cdninstagram.com/t51.2885-15/s640x640/e15/15047001_709666365855570_1600750245547868160_n.jpg?ig_cache_key=MTM4NzI4NjYyNzA0MjI4MzEzNA%3D%3D.2',\n",
       "      'id': '1387286627042283134',\n",
       "      'is_video': True,\n",
       "      'likes': {'count': 429421},\n",
       "      'owner': {'id': '18597144'},\n",
       "      'thumbnail_src': 'https://scontent.cdninstagram.com/t51.2885-15/s640x640/e15/15047001_709666365855570_1600750245547868160_n.jpg?ig_cache_key=MTM4NzI4NjYyNzA0MjI4MzEzNA%3D%3D.2',\n",
       "      'video_views': 3162764}],\n",
       "    'page_info': {'end_cursor': '1387286627042283134',\n",
       "     'has_next_page': True,\n",
       "     'has_previous_page': False,\n",
       "     'start_cursor': '1394782055463989248'}},\n",
       "   'profile_pic_url': 'https://scontent.cdninstagram.com/t51.2885-19/s150x150/13696662_1682216618766977_738575702_a.jpg',\n",
       "   'profile_pic_url_hd': 'https://scontent.cdninstagram.com/t51.2885-19/s320x320/13696662_1682216618766977_738575702_a.jpg',\n",
       "   'requested_by_viewer': False,\n",
       "   'username': 'kingbach'}}]"
      ]
     },
     "execution_count": 39,
     "metadata": {},
     "output_type": "execute_result"
    }
   ],
   "source": [
    "js_text['entry_data']['ProfilePage']"
   ]
  },
  {
   "cell_type": "code",
   "execution_count": 24,
   "metadata": {
    "collapsed": false
   },
   "outputs": [
    {
     "ename": "TypeError",
     "evalue": "expected string or buffer",
     "output_type": "error",
     "traceback": [
      "\u001b[1;31m---------------------------------------------------------------------------\u001b[0m",
      "\u001b[1;31mTypeError\u001b[0m                                 Traceback (most recent call last)",
      "\u001b[1;32m<ipython-input-24-a0fd5f23c051>\u001b[0m in \u001b[0;36m<module>\u001b[1;34m()\u001b[0m\n\u001b[1;32m----> 1\u001b[1;33m \u001b[0mjson\u001b[0m\u001b[1;33m.\u001b[0m\u001b[0mloads\u001b[0m\u001b[1;33m(\u001b[0m\u001b[0mjs_text\u001b[0m\u001b[1;33m)\u001b[0m\u001b[1;33m\u001b[0m\u001b[0m\n\u001b[0m",
      "\u001b[1;32m/usr/lib/python2.7/json/__init__.pyc\u001b[0m in \u001b[0;36mloads\u001b[1;34m(s, encoding, cls, object_hook, parse_float, parse_int, parse_constant, object_pairs_hook, **kw)\u001b[0m\n\u001b[0;32m    336\u001b[0m             \u001b[0mparse_int\u001b[0m \u001b[1;32mis\u001b[0m \u001b[0mNone\u001b[0m \u001b[1;32mand\u001b[0m \u001b[0mparse_float\u001b[0m \u001b[1;32mis\u001b[0m \u001b[0mNone\u001b[0m \u001b[1;32mand\u001b[0m\u001b[1;33m\u001b[0m\u001b[0m\n\u001b[0;32m    337\u001b[0m             parse_constant is None and object_pairs_hook is None and not kw):\n\u001b[1;32m--> 338\u001b[1;33m         \u001b[1;32mreturn\u001b[0m \u001b[0m_default_decoder\u001b[0m\u001b[1;33m.\u001b[0m\u001b[0mdecode\u001b[0m\u001b[1;33m(\u001b[0m\u001b[0ms\u001b[0m\u001b[1;33m)\u001b[0m\u001b[1;33m\u001b[0m\u001b[0m\n\u001b[0m\u001b[0;32m    339\u001b[0m     \u001b[1;32mif\u001b[0m \u001b[0mcls\u001b[0m \u001b[1;32mis\u001b[0m \u001b[0mNone\u001b[0m\u001b[1;33m:\u001b[0m\u001b[1;33m\u001b[0m\u001b[0m\n\u001b[0;32m    340\u001b[0m         \u001b[0mcls\u001b[0m \u001b[1;33m=\u001b[0m \u001b[0mJSONDecoder\u001b[0m\u001b[1;33m\u001b[0m\u001b[0m\n",
      "\u001b[1;32m/usr/lib/python2.7/json/decoder.pyc\u001b[0m in \u001b[0;36mdecode\u001b[1;34m(self, s, _w)\u001b[0m\n\u001b[0;32m    364\u001b[0m \u001b[1;33m\u001b[0m\u001b[0m\n\u001b[0;32m    365\u001b[0m         \"\"\"\n\u001b[1;32m--> 366\u001b[1;33m         \u001b[0mobj\u001b[0m\u001b[1;33m,\u001b[0m \u001b[0mend\u001b[0m \u001b[1;33m=\u001b[0m \u001b[0mself\u001b[0m\u001b[1;33m.\u001b[0m\u001b[0mraw_decode\u001b[0m\u001b[1;33m(\u001b[0m\u001b[0ms\u001b[0m\u001b[1;33m,\u001b[0m \u001b[0midx\u001b[0m\u001b[1;33m=\u001b[0m\u001b[0m_w\u001b[0m\u001b[1;33m(\u001b[0m\u001b[0ms\u001b[0m\u001b[1;33m,\u001b[0m \u001b[1;36m0\u001b[0m\u001b[1;33m)\u001b[0m\u001b[1;33m.\u001b[0m\u001b[0mend\u001b[0m\u001b[1;33m(\u001b[0m\u001b[1;33m)\u001b[0m\u001b[1;33m)\u001b[0m\u001b[1;33m\u001b[0m\u001b[0m\n\u001b[0m\u001b[0;32m    367\u001b[0m         \u001b[0mend\u001b[0m \u001b[1;33m=\u001b[0m \u001b[0m_w\u001b[0m\u001b[1;33m(\u001b[0m\u001b[0ms\u001b[0m\u001b[1;33m,\u001b[0m \u001b[0mend\u001b[0m\u001b[1;33m)\u001b[0m\u001b[1;33m.\u001b[0m\u001b[0mend\u001b[0m\u001b[1;33m(\u001b[0m\u001b[1;33m)\u001b[0m\u001b[1;33m\u001b[0m\u001b[0m\n\u001b[0;32m    368\u001b[0m         \u001b[1;32mif\u001b[0m \u001b[0mend\u001b[0m \u001b[1;33m!=\u001b[0m \u001b[0mlen\u001b[0m\u001b[1;33m(\u001b[0m\u001b[0ms\u001b[0m\u001b[1;33m)\u001b[0m\u001b[1;33m:\u001b[0m\u001b[1;33m\u001b[0m\u001b[0m\n",
      "\u001b[1;31mTypeError\u001b[0m: expected string or buffer"
     ]
    }
   ],
   "source": []
  },
  {
   "cell_type": "code",
   "execution_count": null,
   "metadata": {
    "collapsed": true
   },
   "outputs": [],
   "source": []
  }
 ],
 "metadata": {
  "kernelspec": {
   "display_name": "Python 2",
   "language": "python",
   "name": "python2"
  },
  "language_info": {
   "codemirror_mode": {
    "name": "ipython",
    "version": 2
   },
   "file_extension": ".py",
   "mimetype": "text/x-python",
   "name": "python",
   "nbconvert_exporter": "python",
   "pygments_lexer": "ipython2",
   "version": "2.7.6"
  }
 },
 "nbformat": 4,
 "nbformat_minor": 0
}
