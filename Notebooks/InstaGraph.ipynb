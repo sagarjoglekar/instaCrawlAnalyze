{
 "cells": [
  {
   "cell_type": "code",
   "execution_count": 2,
   "metadata": {
    "collapsed": true
   },
   "outputs": [],
   "source": [
    "import numpy as np\n",
    "%matplotlib inline\n",
    "import matplotlib.pyplot as plt\n",
    "import matplotlib.cm as cm\n",
    "import json\n",
    "import os\n",
    "import cPickle as pickle\n",
    "from collections import Counter\n",
    "from datetime import datetime\n",
    "from shutil import copyfile\n",
    "import platform\n",
    "import scipy.stats\n",
    "import networkx as nx\n",
    "from networkx.drawing.nx_agraph import graphviz_layout"
   ]
  },
  {
   "cell_type": "code",
   "execution_count": 3,
   "metadata": {
    "collapsed": true
   },
   "outputs": [],
   "source": [
    "def readJson(path):\n",
    "    f = open(path)\n",
    "    data = json.loads(f.read())\n",
    "    return data"
   ]
  },
  {
   "cell_type": "code",
   "execution_count": 4,
   "metadata": {
    "collapsed": true
   },
   "outputs": [],
   "source": [
    "instaMeta = \"/datasets/sagarj/InstagramDataset_2016_seeded/InstaMeta.json\"\n",
    "instaMetaJson = readJson(instaMeta)"
   ]
  },
  {
   "cell_type": "code",
   "execution_count": 5,
   "metadata": {
    "collapsed": true
   },
   "outputs": [],
   "source": [
    "users = [ instaMetaJson[i]['meta']['Meta']['media']['owner']['id'] for i in instaMetaJson ]"
   ]
  },
  {
   "cell_type": "code",
   "execution_count": 6,
   "metadata": {
    "collapsed": true
   },
   "outputs": [],
   "source": [
    "views = [float(instaMetaJson[i]['views'])+1 for i in instaMetaJson]"
   ]
  },
  {
   "cell_type": "code",
   "execution_count": 34,
   "metadata": {
    "collapsed": true
   },
   "outputs": [],
   "source": [
    "top10percent = np.asarray(views).argsort()[-750:][::-1]"
   ]
  },
  {
   "cell_type": "code",
   "execution_count": 35,
   "metadata": {
    "collapsed": true
   },
   "outputs": [],
   "source": [
    "thresh = views[top10percent[-1]]"
   ]
  },
  {
   "cell_type": "code",
   "execution_count": 36,
   "metadata": {
    "collapsed": true
   },
   "outputs": [],
   "source": [
    "popMeta = [ instaMetaJson[i] for i in instaMetaJson if instaMetaJson[i]['views'] > thresh ]"
   ]
  },
  {
   "cell_type": "code",
   "execution_count": 37,
   "metadata": {
    "collapsed": false
   },
   "outputs": [
    {
     "ename": "SyntaxError",
     "evalue": "invalid syntax (<ipython-input-37-6555b14f4657>, line 1)",
     "output_type": "error",
     "traceback": [
      "\u001b[1;36m  File \u001b[1;32m\"<ipython-input-37-6555b14f4657>\"\u001b[1;36m, line \u001b[1;32m1\u001b[0m\n\u001b[1;33m    for\u001b[0m\n\u001b[1;37m        ^\u001b[0m\n\u001b[1;31mSyntaxError\u001b[0m\u001b[1;31m:\u001b[0m invalid syntax\n"
     ]
    }
   ],
   "source": [
    "for "
   ]
  },
  {
   "cell_type": "code",
   "execution_count": null,
   "metadata": {
    "collapsed": true
   },
   "outputs": [],
   "source": []
  },
  {
   "cell_type": "code",
   "execution_count": 23,
   "metadata": {
    "collapsed": false
   },
   "outputs": [],
   "source": [
    "instaUserGraph = nx.Graph()\n",
    "for t in  popMeta:\n",
    "    dest = t['meta']['Meta']['media']['owner']['id']\n",
    "    comments = t['meta']['Meta']['media']['comments']['nodes']\n",
    "    likes = t['meta']['Meta']['media']['likes']['nodes']\n",
    "    records = comments + likes\n",
    "    if not instaUserGraph.has_node(dest):\n",
    "        instaUserGraph.add_node(dest)\n",
    "    for r in records:\n",
    "        if r['user']['id'] != dest:\n",
    "            if not instaUserGraph.has_edge(r['user']['id'],dest):\n",
    "                instaUserGraph.add_edge(r['user']['id'], dest , weight=1 )\n",
    "            else:\n",
    "                instaUserGraph[r['user']['id']][dest]['weight'] += 1"
   ]
  },
  {
   "cell_type": "code",
   "execution_count": 24,
   "metadata": {
    "collapsed": false
   },
   "outputs": [
    {
     "data": {
      "text/plain": [
       "59946"
      ]
     },
     "execution_count": 24,
     "metadata": {},
     "output_type": "execute_result"
    }
   ],
   "source": [
    "len(instaUserGraph.edges())"
   ]
  },
  {
   "cell_type": "code",
   "execution_count": 25,
   "metadata": {
    "collapsed": true
   },
   "outputs": [],
   "source": [
    "outdeg = instaUserGraph.degree()\n",
    "to_keep = [n for n in outdeg if outdeg[n] > 1]\n",
    "filteredPop = instaUserGraph.subgraph(to_keep)"
   ]
  },
  {
   "cell_type": "code",
   "execution_count": 26,
   "metadata": {
    "collapsed": false
   },
   "outputs": [
    {
     "data": {
      "text/plain": [
       "511"
      ]
     },
     "execution_count": 26,
     "metadata": {},
     "output_type": "execute_result"
    }
   ],
   "source": [
    "len(filteredPop.edges())"
   ]
  },
  {
   "cell_type": "code",
   "execution_count": 27,
   "metadata": {
    "collapsed": false
   },
   "outputs": [],
   "source": [
    "rich_club = nx.rich_club_coefficient(filteredPop, normalized=True  , Q = 100 )"
   ]
  },
  {
   "cell_type": "code",
   "execution_count": 28,
   "metadata": {
    "collapsed": false
   },
   "outputs": [
    {
     "name": "stdout",
     "output_type": "stream",
     "text": [
      "{0: 1.0, 1: 1.0, 2: 0.19047619047619047, 3: 0.0425531914893617, 4: 0.04597701149425287, 5: 0.012499999999999999, 6: 0.012987012987012986, 7: 0.014705882352941176, 8: 0.017857142857142856, 9: 0.017857142857142856, 10: 0.02173913043478261, 11: 0.029411764705882356, 12: 0.029411764705882356, 13: 0.029411764705882356, 14: 0.029411764705882356, 15: 0.038461538461538464, 16: 0.049999999999999996, 17: 0.049999999999999996, 18: 0.049999999999999996, 19: 0.049999999999999996, 20: 0.058823529411764705, 21: 0.06666666666666667, 22: 0.06666666666666667, 23: 0.06666666666666667, 24: 0.06666666666666667, 25: 0.06666666666666667, 26: 0.08333333333333333, 27: 0.08333333333333333, 28: 0.25, 29: 0.25, 30: 0.3333333333333333, 31: 0.3333333333333333, 32: 0.3333333333333333, 33: 0.3333333333333333, 34: 0.3333333333333333, 35: 0.3333333333333333, 36: 0.3333333333333333, 37: 0.3333333333333333, 38: 0.3333333333333333, 39: 0.3333333333333333, 40: 0.3333333333333333, 41: 0.3333333333333333, 42: 0.3333333333333333, 43: 0.3333333333333333, 44: 0.3333333333333333, 45: 0.3333333333333333, 46: 0.3333333333333333, 47: 1.0}\n"
     ]
    }
   ],
   "source": [
    "print rich_club\n"
   ]
  },
  {
   "cell_type": "code",
   "execution_count": 29,
   "metadata": {
    "collapsed": true
   },
   "outputs": [],
   "source": [
    "rich_coeff =  rich_club.values()"
   ]
  },
  {
   "cell_type": "code",
   "execution_count": 33,
   "metadata": {
    "collapsed": false
   },
   "outputs": [
    {
     "data": {
      "image/png": "[encoded data removed]",
      "text/plain": [
       "<matplotlib.figure.Figure at 0x7fc770cfad50>"
      ]
     },
     "metadata": {},
     "output_type": "display_data"
    }
   ],
   "source": [
    "fig, ax = plt.subplots()\n",
    "fig.set_size_inches(15, 10)\n",
    "plt.plot(rich_coeff,'b-',linewidth = 2.0)\n",
    "plt.title(\"Unweighted Normalized Rich Club coefficients for Vine\", fontsize = 20)\n",
    "plt.xlabel(\"Degree\",fontsize = 20)\n",
    "plt.ylabel(\"Coefficient value\",fontsize = 20)\n",
    "plt.yticks(np.arange(0,1.2,0.1))\n",
    "plt.xticks(np.arange(0,50 ,1))\n",
    "plt.grid()\n",
    "plt.show()"
   ]
  },
  {
   "cell_type": "code",
   "execution_count": null,
   "metadata": {
    "collapsed": true
   },
   "outputs": [],
   "source": []
  }
 ],
 "metadata": {
  "kernelspec": {
   "display_name": "Python 2",
   "language": "python",
   "name": "python2"
  },
  "language_info": {
   "codemirror_mode": {
    "name": "ipython",
    "version": 2
   },
   "file_extension": ".py",
   "mimetype": "text/x-python",
   "name": "python",
   "nbconvert_exporter": "python",
   "pygments_lexer": "ipython2",
   "version": "2.7.12"
  }
 },
 "nbformat": 4,
 "nbformat_minor": 0
}
